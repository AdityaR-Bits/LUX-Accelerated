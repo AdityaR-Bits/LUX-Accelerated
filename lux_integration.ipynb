{
 "cells": [
  {
   "cell_type": "code",
   "execution_count": null,
   "id": "876364ac",
   "metadata": {},
   "outputs": [],
   "source": [
    "import lux\n",
    "import pandas as pd\n",
    "import time\n",
    "import cudf\n",
    "import time"
   ]
  },
  {
   "cell_type": "code",
   "execution_count": null,
   "id": "a0f6647b-2270-45a5-9e6d-607000e84042",
   "metadata": {},
   "outputs": [],
   "source": [
    "start=time.time()\n",
    "lux.config.sampling = False\n",
    "df = cudf.read_csv(\"data/nyc_taxi.csv\")\n",
    "print(\"original shape: \",df.shape)\n",
    "df=df.dropna(axis=0) #drop rows with null\n",
    "print(\"new shape: \",df.shape)\n",
    "#Explicitly convert datetime like values to datetime\n",
    "df['tpep_dropoff_datetime']= cudf.to_datetime(df['tpep_dropoff_datetime'].values_host)\n",
    "df['tpep_pickup_datetime']= cudf.to_datetime(df['tpep_pickup_datetime'].values_host)\n",
    "\n",
    "# df= df.drop(columns=['Unnamed: 0'], axis=1)\n",
    "# df['Start_date']= cudf.to_datetime(df['Start_date'].values_host)\n",
    "# df['End_date']= cudf.to_datetime(df['End_date'].values_host)"
   ]
  },
  {
   "cell_type": "code",
   "execution_count": null,
   "id": "84a8aee2-36cf-48d6-b6ec-6f7d956e1fd9",
   "metadata": {},
   "outputs": [],
   "source": [
    "tim = time.time()\n",
    "df.maintain_recs()"
   ]
  },
  {
   "cell_type": "code",
   "execution_count": null,
   "id": "3ef0b13e-e299-45d0-af95-cf493984c5cf",
   "metadata": {},
   "outputs": [],
   "source": [
    "print(time.time()-start)\n",
    "print(time.time()- tim)"
   ]
  },
  {
   "cell_type": "code",
   "execution_count": null,
   "id": "4dac638f-7546-4862-bc3b-722429aadaa8",
   "metadata": {},
   "outputs": [],
   "source": [
    "# importing package\n",
    "import matplotlib.pyplot as plt\n",
    "import numpy as np\n",
    "  \n",
    "# create data\n",
    "x = [1294,1000000,3750000,8700000,12700000]\n",
    "y_orig = [1.36,22.55,88,268,112.6]\n",
    "y_cudf = [5.22,6.38,12.45,29,23]\n",
    "y_combine = [5.38,11,27.68,65,34]\n",
    "# plot lines\n",
    "plt.plot(x, y_orig, label = \"LUX\", marker =\"x\")\n",
    "plt.plot(x, y_cudf, label = \"Lux cuDF\",  marker =\"x\")\n",
    "plt.plot(x, y_combine, label = \"Lux Combined\",  marker =\"x\")\n",
    "plt.xlabel(\"Dataset Size (Rows)\")\n",
    "plt.ylabel(\"Total Time\")\n",
    "plt.title(\"Time vs Dataset Size\")\n",
    "\n",
    "plt.legend()\n",
    "# plt.show()\n",
    "plt.savefig('my_plot.png')"
   ]
  },
  {
   "cell_type": "code",
   "execution_count": null,
   "id": "5f2978ae-0a6e-496b-862e-529d96eb469a",
   "metadata": {},
   "outputs": [],
   "source": []
  }
 ],
 "metadata": {
  "kernelspec": {
   "display_name": "Python 3 (ipykernel)",
   "language": "python",
   "name": "python3"
  },
  "language_info": {
   "codemirror_mode": {
    "name": "ipython",
    "version": 3
   },
   "file_extension": ".py",
   "mimetype": "text/x-python",
   "name": "python",
   "nbconvert_exporter": "python",
   "pygments_lexer": "ipython3",
   "version": "3.9.13"
  },
  "vscode": {
   "interpreter": {
    "hash": "11938c6bc6919ae2720b4d5011047913343b08a43b18698fd82dedb0d4417594"
   }
  }
 },
 "nbformat": 4,
 "nbformat_minor": 5
}
