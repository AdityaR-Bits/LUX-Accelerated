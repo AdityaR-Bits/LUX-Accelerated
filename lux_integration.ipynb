{
 "cells": [
  {
   "cell_type": "code",
   "execution_count": null,
   "id": "876364ac",
   "metadata": {},
   "outputs": [],
   "source": [
    "import lux\n",
    "import pandas as pd\n",
    "import time\n",
    "import cudf\n",
    "import time"
   ]
  },
  {
   "cell_type": "code",
   "execution_count": null,
   "id": "d23801f9",
   "metadata": {},
   "outputs": [],
   "source": [
    "lux.config.sampling = False\n",
    "df = cudf.read_csv(\"data/hpi.csv\")\n",
    "print(\"original shape: \",df.shape)\n",
    "df=df.dropna(axis=0) #drop rows with null\n",
    "print(\"new shape: \",df.shape)\n",
    "#convert datetime like values to datetime\n",
    "# df['tpep_dropoff_datetime']= cudf.to_datetime(df['tpep_dropoff_datetime'].values_host)\n",
    "# df['tpep_pickup_datetime']= cudf.to_datetime(df['tpep_pickup_datetime'].values_host)\n",
    "# df['YEAR']= cudf.to_datetime(df['YEAR'].values_host)\n",
    "# df['DAY']= cudf.to_datetime(df['DAY'].values_host)\n",
    "# df['MONTH']= cudf.to_datetime(df['MONTH'].values_host)"
   ]
  },
  {
   "cell_type": "code",
   "execution_count": null,
   "id": "3cb84fb1-3b3d-4d07-a387-4bdd6dfecf41",
   "metadata": {},
   "outputs": [],
   "source": [
    "start = time.time()"
   ]
  },
  {
   "cell_type": "code",
   "execution_count": null,
   "id": "ea30feaf",
   "metadata": {
    "tags": []
   },
   "outputs": [],
   "source": [
    "df"
   ]
  },
  {
   "cell_type": "code",
   "execution_count": null,
   "id": "655e973a-f4a3-48df-bb8f-88759f60115a",
   "metadata": {},
   "outputs": [],
   "source": [
    "print(\"total time taken for interesting graph generation :\",time.time() - start)"
   ]
  },
  {
   "cell_type": "code",
   "execution_count": null,
   "id": "4dac638f-7546-4862-bc3b-722429aadaa8",
   "metadata": {},
   "outputs": [],
   "source": []
  }
 ],
 "metadata": {
  "kernelspec": {
   "display_name": "Python 3 (ipykernel)",
   "language": "python",
   "name": "python3"
  },
  "language_info": {
   "codemirror_mode": {
    "name": "ipython",
    "version": 3
   },
   "file_extension": ".py",
   "mimetype": "text/x-python",
   "name": "python",
   "nbconvert_exporter": "python",
   "pygments_lexer": "ipython3",
   "version": "3.9.13"
  },
  "vscode": {
   "interpreter": {
    "hash": "11938c6bc6919ae2720b4d5011047913343b08a43b18698fd82dedb0d4417594"
   }
  }
 },
 "nbformat": 4,
 "nbformat_minor": 5
}
